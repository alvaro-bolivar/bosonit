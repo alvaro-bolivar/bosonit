{
 "cells": [
  {
   "cell_type": "code",
   "execution_count": 1,
   "metadata": {},
   "outputs": [],
   "source": [
    "import pyspark\n",
    "import random\n",
    "from pyspark.sql import SparkSession\n",
    "spark = SparkSession\\\n",
    ".builder\\\n",
    ".appName(\"Tema2\")\\\n",
    ".getOrCreate()"
   ]
  },
  {
   "cell_type": "code",
   "execution_count": 2,
   "metadata": {},
   "outputs": [],
   "source": [
    "mi_rango = spark.range(1000).toDF(\"numero\")"
   ]
  },
  {
   "cell_type": "code",
   "execution_count": 3,
   "metadata": {},
   "outputs": [],
   "source": [
    "divisoresDe2 = mi_rango.where(\"numero % 2 = 0\")"
   ]
  },
  {
   "cell_type": "code",
   "execution_count": 4,
   "metadata": {},
   "outputs": [
    {
     "data": {
      "text/plain": [
       "500"
      ]
     },
     "execution_count": 4,
     "metadata": {},
     "output_type": "execute_result"
    }
   ],
   "source": [
    "divisoresDe2.count()"
   ]
  },
  {
   "cell_type": "code",
   "execution_count": 5,
   "metadata": {},
   "outputs": [],
   "source": [
    "mnm_df = (spark.read.format(\"csv\")\n",
    ".option(\"header\", \"true\")\n",
    ".option(\"inferSchema\", \"true\")\n",
    ".load(\"C:\\Spark\\data\\mnm_dataset.csv\"))"
   ]
  },
  {
   "cell_type": "code",
   "execution_count": 7,
   "metadata": {},
   "outputs": [
    {
     "data": {
      "text/plain": [
       "[Row(State='TX', Color='Red', Count=20),\n",
       " Row(State='NV', Color='Blue', Count=66),\n",
       " Row(State='CO', Color='Blue', Count=79)]"
      ]
     },
     "execution_count": 7,
     "metadata": {},
     "output_type": "execute_result"
    }
   ],
   "source": [
    "mnm_df.take(3)"
   ]
  },
  {
   "cell_type": "code",
   "execution_count": 8,
   "metadata": {},
   "outputs": [
    {
     "name": "stdout",
     "output_type": "stream",
     "text": [
      "== Physical Plan ==\n",
      "*(1) Sort [Color#27 ASC NULLS FIRST], true, 0\n",
      "+- Exchange rangepartitioning(Color#27 ASC NULLS FIRST, 200), ENSURE_REQUIREMENTS, [id=#57]\n",
      "   +- FileScan csv [State#26,Color#27,Count#28] Batched: false, DataFilters: [], Format: CSV, Location: InMemoryFileIndex[file:/C:/Spark/data/mnm_dataset.csv], PartitionFilters: [], PushedFilters: [], ReadSchema: struct<State:string,Color:string,Count:int>\n",
      "\n",
      "\n"
     ]
    }
   ],
   "source": [
    "mnm_df.sort(\"Color\").explain()"
   ]
  },
  {
   "cell_type": "code",
   "execution_count": 9,
   "metadata": {},
   "outputs": [],
   "source": [
    "spark.conf.set(\"spark.sql.shuffle.partitions\", \"5\")"
   ]
  },
  {
   "cell_type": "code",
   "execution_count": 12,
   "metadata": {},
   "outputs": [
    {
     "name": "stdout",
     "output_type": "stream",
     "text": [
      "== Physical Plan ==\n",
      "*(1) Sort [Color#27 ASC NULLS FIRST], true, 0\n",
      "+- Exchange rangepartitioning(Color#27 ASC NULLS FIRST, 5), ENSURE_REQUIREMENTS, [id=#69]\n",
      "   +- FileScan csv [State#26,Color#27,Count#28] Batched: false, DataFilters: [], Format: CSV, Location: InMemoryFileIndex[file:/C:/Spark/data/mnm_dataset.csv], PartitionFilters: [], PushedFilters: [], ReadSchema: struct<State:string,Color:string,Count:int>\n",
      "\n",
      "\n"
     ]
    }
   ],
   "source": [
    "mnm_df.sort(\"Color\").explain()"
   ]
  },
  {
   "cell_type": "code",
   "execution_count": 13,
   "metadata": {},
   "outputs": [
    {
     "data": {
      "text/plain": [
       "[Row(State='OR', Color='Blue', Count=71),\n",
       " Row(State='CO', Color='Blue', Count=79),\n",
       " Row(State='NV', Color='Blue', Count=66)]"
      ]
     },
     "execution_count": 13,
     "metadata": {},
     "output_type": "execute_result"
    }
   ],
   "source": [
    "mnm_df.sort(\"Color\").take(3)"
   ]
  },
  {
   "cell_type": "code",
   "execution_count": 14,
   "metadata": {},
   "outputs": [],
   "source": [
    "mnm_df.createOrReplaceTempView(\"mnms\")"
   ]
  },
  {
   "cell_type": "code",
   "execution_count": 21,
   "metadata": {},
   "outputs": [],
   "source": [
    "count_mnm = spark.sql(\"SELECT STATE, COLOR, COUNT(*) FROM mnms GROUP BY STATE, COLOR ORDER BY COUNT(*)\")"
   ]
  },
  {
   "cell_type": "code",
   "execution_count": 22,
   "metadata": {},
   "outputs": [
    {
     "data": {
      "text/plain": [
       "[Row(STATE='WY', COLOR='Brown', count(1)=1532),\n",
       " Row(STATE='UT', COLOR='Green', count(1)=1591),\n",
       " Row(STATE='WY', COLOR='Orange', count(1)=1595),\n",
       " Row(STATE='CA', COLOR='Blue', count(1)=1603),\n",
       " Row(STATE='NV', COLOR='Red', count(1)=1610)]"
      ]
     },
     "execution_count": 22,
     "metadata": {},
     "output_type": "execute_result"
    }
   ],
   "source": [
    "count_mnm.take(5)"
   ]
  },
  {
   "cell_type": "code",
   "execution_count": 23,
   "metadata": {},
   "outputs": [],
   "source": [
    "ca_count_mnm = spark.sql(\"SELECT STATE, COLOR, COUNT(*) FROM mnms WHERE STATE = 'CA' GROUP BY STATE, COLOR ORDER BY COUNT(*)\")"
   ]
  },
  {
   "cell_type": "code",
   "execution_count": 24,
   "metadata": {},
   "outputs": [
    {
     "data": {
      "text/plain": [
       "[Row(STATE='CA', COLOR='Blue', count(1)=1603),\n",
       " Row(STATE='CA', COLOR='Red', count(1)=1656),\n",
       " Row(STATE='CA', COLOR='Orange', count(1)=1657),\n",
       " Row(STATE='CA', COLOR='Brown', count(1)=1718),\n",
       " Row(STATE='CA', COLOR='Green', count(1)=1723),\n",
       " Row(STATE='CA', COLOR='Yellow', count(1)=1807)]"
      ]
     },
     "execution_count": 24,
     "metadata": {},
     "output_type": "execute_result"
    }
   ],
   "source": [
    "ca_count_mnm.take(6)"
   ]
  },
  {
   "cell_type": "code",
   "execution_count": 25,
   "metadata": {},
   "outputs": [
    {
     "ename": "SyntaxError",
     "evalue": "(unicode error) 'unicodeescape' codec can't decode bytes in position 2-3: truncated \\UXXXXXXXX escape (<ipython-input-25-52c52b88e870>, line 1)",
     "output_type": "error",
     "traceback": [
      "\u001b[1;36m  File \u001b[1;32m\"<ipython-input-25-52c52b88e870>\"\u001b[1;36m, line \u001b[1;32m1\u001b[0m\n\u001b[1;33m    strings = spark.read.textFile(\"C:\\Users\\GAME\\Desktop\\el_quijote.txt\")\u001b[0m\n\u001b[1;37m                                  ^\u001b[0m\n\u001b[1;31mSyntaxError\u001b[0m\u001b[1;31m:\u001b[0m (unicode error) 'unicodeescape' codec can't decode bytes in position 2-3: truncated \\UXXXXXXXX escape\n"
     ]
    }
   ],
   "source": [
    "strings = spark.read.textFile(\"C:\\Users\\GAME\\Desktop\\el_quijote.txt\")"
   ]
  },
  {
   "cell_type": "code",
   "execution_count": 27,
   "metadata": {},
   "outputs": [
    {
     "ename": "SyntaxError",
     "evalue": "(unicode error) 'unicodeescape' codec can't decode bytes in position 2-3: truncated \\UXXXXXXXX escape (<ipython-input-27-9a2b1a47e6c7>, line 1)",
     "output_type": "error",
     "traceback": [
      "\u001b[1;36m  File \u001b[1;32m\"<ipython-input-27-9a2b1a47e6c7>\"\u001b[1;36m, line \u001b[1;32m1\u001b[0m\n\u001b[1;33m    strings = spark.read.text(\"C:\\Users\\GAME\\Desktop\\el_quijote.txt\")\u001b[0m\n\u001b[1;37m                              ^\u001b[0m\n\u001b[1;31mSyntaxError\u001b[0m\u001b[1;31m:\u001b[0m (unicode error) 'unicodeescape' codec can't decode bytes in position 2-3: truncated \\UXXXXXXXX escape\n"
     ]
    }
   ],
   "source": [
    "strings = spark.read.text(\"C:\\Users\\GAME\\Desktop\\el_quijote.txt\")"
   ]
  },
  {
   "cell_type": "code",
   "execution_count": 38,
   "metadata": {},
   "outputs": [],
   "source": [
    "max_mnm = spark.sql(\"SELECT STATE, COLOR, MAX(Count) FROM mnms GROUP BY STATE, COLOR ORDER BY MAX(Count) asc\")"
   ]
  },
  {
   "cell_type": "code",
   "execution_count": 36,
   "metadata": {},
   "outputs": [
    {
     "data": {
      "text/plain": [
       "[Row(STATE='WA', COLOR='Yellow', max(Count)=100),\n",
       " Row(STATE='NV', COLOR='Red', max(Count)=100),\n",
       " Row(STATE='AZ', COLOR='Green', max(Count)=100),\n",
       " Row(STATE='NM', COLOR='Yellow', max(Count)=100),\n",
       " Row(STATE='TX', COLOR='Orange', max(Count)=100),\n",
       " Row(STATE='NV', COLOR='Orange', max(Count)=100),\n",
       " Row(STATE='CA', COLOR='Red', max(Count)=100),\n",
       " Row(STATE='TX', COLOR='Yellow', max(Count)=100),\n",
       " Row(STATE='CO', COLOR='Brown', max(Count)=100),\n",
       " Row(STATE='NM', COLOR='Brown', max(Count)=100),\n",
       " Row(STATE='WY', COLOR='Brown', max(Count)=100),\n",
       " Row(STATE='AZ', COLOR='Yellow', max(Count)=100),\n",
       " Row(STATE='CO', COLOR='Blue', max(Count)=100),\n",
       " Row(STATE='OR', COLOR='Blue', max(Count)=100),\n",
       " Row(STATE='CA', COLOR='Yellow', max(Count)=100),\n",
       " Row(STATE='TX', COLOR='Green', max(Count)=100),\n",
       " Row(STATE='WY', COLOR='Orange', max(Count)=100),\n",
       " Row(STATE='CO', COLOR='Red', max(Count)=100),\n",
       " Row(STATE='CA', COLOR='Green', max(Count)=100),\n",
       " Row(STATE='WA', COLOR='Orange', max(Count)=100),\n",
       " Row(STATE='CA', COLOR='Blue', max(Count)=100),\n",
       " Row(STATE='NM', COLOR='Green', max(Count)=100),\n",
       " Row(STATE='UT', COLOR='Yellow', max(Count)=100),\n",
       " Row(STATE='NM', COLOR='Blue', max(Count)=100),\n",
       " Row(STATE='NM', COLOR='Orange', max(Count)=100),\n",
       " Row(STATE='OR', COLOR='Yellow', max(Count)=100),\n",
       " Row(STATE='UT', COLOR='Orange', max(Count)=100),\n",
       " Row(STATE='CO', COLOR='Yellow', max(Count)=100),\n",
       " Row(STATE='WY', COLOR='Blue', max(Count)=100),\n",
       " Row(STATE='AZ', COLOR='Blue', max(Count)=100),\n",
       " Row(STATE='OR', COLOR='Brown', max(Count)=100),\n",
       " Row(STATE='WA', COLOR='Red', max(Count)=100),\n",
       " Row(STATE='WY', COLOR='Red', max(Count)=100),\n",
       " Row(STATE='WY', COLOR='Yellow', max(Count)=100),\n",
       " Row(STATE='AZ', COLOR='Orange', max(Count)=100),\n",
       " Row(STATE='AZ', COLOR='Red', max(Count)=100),\n",
       " Row(STATE='NV', COLOR='Yellow', max(Count)=100),\n",
       " Row(STATE='WA', COLOR='Brown', max(Count)=100),\n",
       " Row(STATE='OR', COLOR='Red', max(Count)=100),\n",
       " Row(STATE='UT', COLOR='Brown', max(Count)=100),\n",
       " Row(STATE='WA', COLOR='Blue', max(Count)=100),\n",
       " Row(STATE='OR', COLOR='Orange', max(Count)=100),\n",
       " Row(STATE='CA', COLOR='Brown', max(Count)=100),\n",
       " Row(STATE='NM', COLOR='Red', max(Count)=100),\n",
       " Row(STATE='TX', COLOR='Red', max(Count)=100),\n",
       " Row(STATE='NV', COLOR='Blue', max(Count)=100),\n",
       " Row(STATE='OR', COLOR='Green', max(Count)=100),\n",
       " Row(STATE='AZ', COLOR='Brown', max(Count)=100),\n",
       " Row(STATE='TX', COLOR='Blue', max(Count)=100),\n",
       " Row(STATE='NV', COLOR='Brown', max(Count)=100),\n",
       " Row(STATE='WA', COLOR='Green', max(Count)=100),\n",
       " Row(STATE='NV', COLOR='Green', max(Count)=100),\n",
       " Row(STATE='TX', COLOR='Brown', max(Count)=100),\n",
       " Row(STATE='CO', COLOR='Orange', max(Count)=100),\n",
       " Row(STATE='WY', COLOR='Green', max(Count)=100),\n",
       " Row(STATE='UT', COLOR='Red', max(Count)=100),\n",
       " Row(STATE='UT', COLOR='Green', max(Count)=100),\n",
       " Row(STATE='UT', COLOR='Blue', max(Count)=100),\n",
       " Row(STATE='CA', COLOR='Orange', max(Count)=100),\n",
       " Row(STATE='CO', COLOR='Green', max(Count)=100)]"
      ]
     },
     "execution_count": 36,
     "metadata": {},
     "output_type": "execute_result"
    }
   ],
   "source": [
    "max_mnm.take(100)"
   ]
  },
  {
   "cell_type": "code",
   "execution_count": 39,
   "metadata": {},
   "outputs": [],
   "source": [
    "ca_count_mnm = spark.sql(\"SELECT STATE, COLOR, COUNT(*) FROM mnms WHERE STATE = 'CA' OR STATE = 'TX' GROUP BY STATE, COLOR ORDER BY COUNT(*)\")"
   ]
  },
  {
   "cell_type": "code",
   "execution_count": 40,
   "metadata": {},
   "outputs": [
    {
     "data": {
      "text/plain": [
       "[Row(STATE='CA', COLOR='Blue', count(1)=1603),\n",
       " Row(STATE='TX', COLOR='Blue', count(1)=1614),\n",
       " Row(STATE='TX', COLOR='Brown', count(1)=1641),\n",
       " Row(STATE='TX', COLOR='Orange', count(1)=1652),\n",
       " Row(STATE='CA', COLOR='Red', count(1)=1656)]"
      ]
     },
     "execution_count": 40,
     "metadata": {},
     "output_type": "execute_result"
    }
   ],
   "source": [
    "ca_count_mnm.take(5)"
   ]
  },
  {
   "cell_type": "code",
   "execution_count": 47,
   "metadata": {},
   "outputs": [],
   "source": [
    "count_mnm_df = (mnm_df\\\n",
    ".select(\"State\", \"Color\", \"Count\")\\\n",
    ".groupBy(\"State\", \"Color\")\\\n",
    ".agg(max(\"Count\").alias(\"Total\"))\\\n",
    ".orderBy(\"Total\", ascending=False))"
   ]
  },
  {
   "cell_type": "markdown",
   "metadata": {},
   "source": [
    "from pyspark.sql.functions import max"
   ]
  },
  {
   "cell_type": "code",
   "execution_count": 46,
   "metadata": {},
   "outputs": [],
   "source": [
    "from pyspark.sql.functions import max"
   ]
  },
  {
   "cell_type": "code",
   "execution_count": 48,
   "metadata": {},
   "outputs": [
    {
     "data": {
      "text/plain": [
       "[Row(State='WY', Color='Blue', Total=100),\n",
       " Row(State='AZ', Color='Blue', Total=100),\n",
       " Row(State='OR', Color='Brown', Total=100),\n",
       " Row(State='WA', Color='Red', Total=100),\n",
       " Row(State='WY', Color='Red', Total=100),\n",
       " Row(State='WY', Color='Yellow', Total=100),\n",
       " Row(State='AZ', Color='Orange', Total=100),\n",
       " Row(State='AZ', Color='Red', Total=100),\n",
       " Row(State='NV', Color='Yellow', Total=100),\n",
       " Row(State='WA', Color='Brown', Total=100)]"
      ]
     },
     "execution_count": 48,
     "metadata": {},
     "output_type": "execute_result"
    }
   ],
   "source": [
    "count_mnm_df.take(10)"
   ]
  },
  {
   "cell_type": "code",
   "execution_count": 56,
   "metadata": {},
   "outputs": [
    {
     "ename": "SyntaxError",
     "evalue": "invalid syntax (<ipython-input-56-a10916f937e3>, line 3)",
     "output_type": "error",
     "traceback": [
      "\u001b[1;36m  File \u001b[1;32m\"<ipython-input-56-a10916f937e3>\"\u001b[1;36m, line \u001b[1;32m3\u001b[0m\n\u001b[1;33m    .where(mnm_df.State == \"CA\" || mnm_df.State == 'TX')\\\u001b[0m\n\u001b[1;37m                                 ^\u001b[0m\n\u001b[1;31mSyntaxError\u001b[0m\u001b[1;31m:\u001b[0m invalid syntax\n"
     ]
    }
   ],
   "source": [
    "ca_count_mnm_df = (mnm_df\\\n",
    ".select(\"State\", \"Color\", \"Count\")\\\n",
    ".where(\"mnm_df.State == 'CA' or mnm_df.State == 'TX'\")\\\n",
    ".groupBy(\"State\", \"Color\")\\\n",
    ".agg(count(\"Count\").alias(\"Total\"))\\\n",
    ".orderBy(\"Total\", ascending=False))"
   ]
  },
  {
   "cell_type": "code",
   "execution_count": null,
   "metadata": {},
   "outputs": [],
   "source": []
  }
 ],
 "metadata": {
  "kernelspec": {
   "display_name": "Python 3",
   "language": "python",
   "name": "python3"
  },
  "language_info": {
   "codemirror_mode": {
    "name": "ipython",
    "version": 3
   },
   "file_extension": ".py",
   "mimetype": "text/x-python",
   "name": "python",
   "nbconvert_exporter": "python",
   "pygments_lexer": "ipython3",
   "version": "3.8.5"
  }
 },
 "nbformat": 4,
 "nbformat_minor": 4
}
